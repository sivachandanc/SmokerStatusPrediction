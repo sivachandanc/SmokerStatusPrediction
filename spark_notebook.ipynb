{
 "cells": [
  {
   "cell_type": "code",
   "execution_count": 68,
   "metadata": {},
   "outputs": [],
   "source": [
    "from pyspark.sql.session import SparkSession\n",
    "from pyspark.sql.functions import *\n",
    "from pyspark.ml.feature import VectorAssembler\n",
    "from pyspark.ml.classification import DecisionTreeClassifier"
   ]
  },
  {
   "cell_type": "code",
   "execution_count": 56,
   "metadata": {},
   "outputs": [],
   "source": [
    "spark_session = SparkSession.builder.appName('Siva').getOrCreate()"
   ]
  },
  {
   "cell_type": "code",
   "execution_count": 57,
   "metadata": {},
   "outputs": [
    {
     "name": "stdout",
     "output_type": "stream",
     "text": [
      "+---+----------+----------+---------+--------------+---------------+-------------+--------------+--------+----------+-------------------+-----------+------------+---+---+----------+-------------+----------------+----+----+---+-------------+-------+\n",
      "|age|height(cm)|weight(kg)|waist(cm)|eyesight(left)|eyesight(right)|hearing(left)|hearing(right)|systolic|relaxation|fasting blood sugar|Cholesterol|triglyceride|HDL|LDL|hemoglobin|Urine protein|serum creatinine|AST |ALT |Gtp|dental caries|smoking|\n",
      "+---+----------+----------+---------+--------------+---------------+-------------+--------------+--------+----------+-------------------+-----------+------------+---+---+----------+-------------+----------------+----+----+---+-------------+-------+\n",
      "|35 |170       |85        |97.0     |0.9           |0.9            |1            |1             |118     |78        |97                 |239        |153         |70 |142|19.8      |1            |1.0             |61  |115 |125|1            |1      |\n",
      "|20 |175       |110       |110.0    |0.7           |0.9            |1            |1             |119     |79        |88                 |211        |128         |71 |114|15.9      |1            |1.1             |19  |25  |30 |1            |0      |\n",
      "|45 |155       |65        |86.0     |0.9           |0.9            |1            |1             |110     |80        |80                 |193        |120         |57 |112|13.7      |3            |0.6             |1090|1400|276|0            |0      |\n",
      "|45 |165       |80        |94.0     |0.8           |0.7            |1            |1             |158     |88        |249                |210        |366         |46 |91 |16.9      |1            |0.9             |32  |36  |36 |0            |0      |\n",
      "|20 |165       |60        |81.0     |1.5           |0.1            |1            |1             |109     |64        |100                |179        |200         |47 |92 |14.9      |1            |1.2             |26  |28  |15 |0            |0      |\n",
      "+---+----------+----------+---------+--------------+---------------+-------------+--------------+--------+----------+-------------------+-----------+------------+---+---+----------+-------------+----------------+----+----+---+-------------+-------+\n",
      "only showing top 5 rows\n",
      "\n"
     ]
    }
   ],
   "source": [
    "df_raw = spark_session.read.csv('./data/train_dataset.csv',header=True,inferSchema=True)\n",
    "df_raw.show(5,truncate=False)"
   ]
  },
  {
   "cell_type": "code",
   "execution_count": 58,
   "metadata": {},
   "outputs": [
    {
     "data": {
      "text/plain": [
       "[('age', 'int'),\n",
       " ('height(cm)', 'int'),\n",
       " ('weight(kg)', 'int'),\n",
       " ('waist(cm)', 'double'),\n",
       " ('eyesight(left)', 'double'),\n",
       " ('eyesight(right)', 'double'),\n",
       " ('hearing(left)', 'int'),\n",
       " ('hearing(right)', 'int'),\n",
       " ('systolic', 'int'),\n",
       " ('relaxation', 'int'),\n",
       " ('fasting blood sugar', 'int'),\n",
       " ('Cholesterol', 'int'),\n",
       " ('triglyceride', 'int'),\n",
       " ('HDL', 'int'),\n",
       " ('LDL', 'int'),\n",
       " ('hemoglobin', 'double'),\n",
       " ('Urine protein', 'int'),\n",
       " ('serum creatinine', 'double'),\n",
       " ('AST', 'int'),\n",
       " ('ALT', 'int'),\n",
       " ('Gtp', 'int'),\n",
       " ('dental caries', 'int'),\n",
       " ('smoking', 'int')]"
      ]
     },
     "execution_count": 58,
     "metadata": {},
     "output_type": "execute_result"
    }
   ],
   "source": [
    "df_raw.dtypes"
   ]
  },
  {
   "cell_type": "code",
   "execution_count": 64,
   "metadata": {},
   "outputs": [],
   "source": [
    "assembler = VectorAssembler(inputCols=df_raw.columns,outputCol='features')\n",
    "df_data = assembler.transform(df_raw)"
   ]
  },
  {
   "cell_type": "code",
   "execution_count": 66,
   "metadata": {},
   "outputs": [],
   "source": [
    "df_train,df_test = df_data.randomSplit([0.8,0.2],seed=12)"
   ]
  },
  {
   "cell_type": "code",
   "execution_count": 69,
   "metadata": {},
   "outputs": [
    {
     "name": "stdout",
     "output_type": "stream",
     "text": [
      "23/01/31 19:46:56 WARN package: Truncated the string representation of a plan since it was too large. This behavior can be adjusted by setting 'spark.sql.debug.maxToStringFields'.\n"
     ]
    },
    {
     "name": "stderr",
     "output_type": "stream",
     "text": [
      "                                                                                \r"
     ]
    },
    {
     "data": {
      "text/plain": [
       "DecisionTreeClassificationModel: uid=DecisionTreeClassifier_2a1463dc2da2, depth=1, numNodes=3, numClasses=2, numFeatures=23"
      ]
     },
     "execution_count": 69,
     "metadata": {},
     "output_type": "execute_result"
    }
   ],
   "source": [
    "tree = DecisionTreeClassifier(featuresCol='features',labelCol='smoking')\n",
    "tree.fit(df_train)"
   ]
  },
  {
   "cell_type": "code",
   "execution_count": null,
   "metadata": {},
   "outputs": [],
   "source": []
  }
 ],
 "metadata": {
  "kernelspec": {
   "display_name": "smoke",
   "language": "python",
   "name": "python3"
  },
  "language_info": {
   "codemirror_mode": {
    "name": "ipython",
    "version": 3
   },
   "file_extension": ".py",
   "mimetype": "text/x-python",
   "name": "python",
   "nbconvert_exporter": "python",
   "pygments_lexer": "ipython3",
   "version": "3.7.16"
  },
  "orig_nbformat": 4,
  "vscode": {
   "interpreter": {
    "hash": "03ac68f638dae92304f2f2e247e788c8032106c1fa438a2f08e4fd986f62f3e5"
   }
  }
 },
 "nbformat": 4,
 "nbformat_minor": 2
}
